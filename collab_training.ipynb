{
 "cells": [
  {
   "cell_type": "markdown",
   "id": "c84fab4f-3362-4dbe-9050-ce9288a091c6",
   "metadata": {},
   "source": [
    "# Collaborative-based filtering "
   ]
  },
  {
   "cell_type": "code",
   "execution_count": 5,
   "id": "f4d82f51-6b8c-4549-a9f8-e6ccca91d1ae",
   "metadata": {},
   "outputs": [
    {
     "data": {
      "text/html": [
       "<div>\n",
       "<style scoped>\n",
       "    .dataframe tbody tr th:only-of-type {\n",
       "        vertical-align: middle;\n",
       "    }\n",
       "\n",
       "    .dataframe tbody tr th {\n",
       "        vertical-align: top;\n",
       "    }\n",
       "\n",
       "    .dataframe thead th {\n",
       "        text-align: right;\n",
       "    }\n",
       "</style>\n",
       "<table border=\"1\" class=\"dataframe\">\n",
       "  <thead>\n",
       "    <tr style=\"text-align: right;\">\n",
       "      <th></th>\n",
       "      <th>userId</th>\n",
       "      <th>movieId</th>\n",
       "      <th>rating</th>\n",
       "    </tr>\n",
       "  </thead>\n",
       "  <tbody>\n",
       "    <tr>\n",
       "      <th>0</th>\n",
       "      <td>1</td>\n",
       "      <td>31</td>\n",
       "      <td>2.5</td>\n",
       "    </tr>\n",
       "    <tr>\n",
       "      <th>1</th>\n",
       "      <td>1</td>\n",
       "      <td>1029</td>\n",
       "      <td>3.0</td>\n",
       "    </tr>\n",
       "    <tr>\n",
       "      <th>2</th>\n",
       "      <td>1</td>\n",
       "      <td>1061</td>\n",
       "      <td>3.0</td>\n",
       "    </tr>\n",
       "    <tr>\n",
       "      <th>3</th>\n",
       "      <td>1</td>\n",
       "      <td>1129</td>\n",
       "      <td>2.0</td>\n",
       "    </tr>\n",
       "    <tr>\n",
       "      <th>4</th>\n",
       "      <td>1</td>\n",
       "      <td>1172</td>\n",
       "      <td>4.0</td>\n",
       "    </tr>\n",
       "  </tbody>\n",
       "</table>\n",
       "</div>"
      ],
      "text/plain": [
       "   userId  movieId  rating\n",
       "0       1       31     2.5\n",
       "1       1     1029     3.0\n",
       "2       1     1061     3.0\n",
       "3       1     1129     2.0\n",
       "4       1     1172     4.0"
      ]
     },
     "execution_count": 5,
     "metadata": {},
     "output_type": "execute_result"
    }
   ],
   "source": [
    "import pandas as pd\n",
    "ratings = pd.read_csv(\"data/ratings.csv\")[[\"userId\",\"movieId\",\"rating\"]]\n",
    "ratings.head()"
   ]
  },
  {
   "cell_type": "code",
   "execution_count": 7,
   "id": "9734694d-fb99-4ccb-bcd6-2012f0d6a465",
   "metadata": {},
   "outputs": [],
   "source": [
    "# Create the dataset \n",
    "from surprise import Dataset, Reader\n",
    "\n",
    "reader = Reader(rating_scale=(1,5))\n",
    "dataset = Dataset.load_from_df(ratings, reader)\n",
    "dataset"
   ]
  },
  {
   "cell_type": "code",
   "execution_count": null,
   "id": "367b82c8-b596-49e4-ac00-60c96a346f0d",
   "metadata": {},
   "outputs": [],
   "source": [
    "# Build the trainset "
   ]
  },
  {
   "cell_type": "code",
   "execution_count": 9,
   "id": "1cec5a39-941c-43eb-955a-49805857b174",
   "metadata": {},
   "outputs": [
    {
     "data": {
      "text/plain": [
       "<surprise.trainset.Trainset at 0x29d5e7bd0>"
      ]
     },
     "execution_count": 9,
     "metadata": {},
     "output_type": "execute_result"
    }
   ],
   "source": [
    "trainset = dataset.build_full_trainset()\n",
    "trainset"
   ]
  },
  {
   "cell_type": "code",
   "execution_count": 11,
   "id": "770bb620-154d-46cf-a4f4-98df60e850fd",
   "metadata": {},
   "outputs": [
    {
     "data": {
      "text/plain": [
       "[(0, 0, 2.5), (0, 1, 3.0), (0, 2, 3.0), (0, 3, 2.0), (0, 4, 4.0)]"
      ]
     },
     "execution_count": 11,
     "metadata": {},
     "output_type": "execute_result"
    }
   ],
   "source": [
    "list(trainset.all_ratings())[:5]"
   ]
  },
  {
   "cell_type": "code",
   "execution_count": 12,
   "id": "192f78bf-b672-4cb6-a0f0-1ed86f171c96",
   "metadata": {},
   "outputs": [],
   "source": [
    "# Train the model "
   ]
  },
  {
   "cell_type": "code",
   "execution_count": 13,
   "id": "2113e6a2-af05-4c48-befa-2c44b606dd96",
   "metadata": {},
   "outputs": [
    {
     "data": {
      "text/plain": [
       "<surprise.prediction_algorithms.matrix_factorization.SVD at 0x29aadb8d0>"
      ]
     },
     "execution_count": 13,
     "metadata": {},
     "output_type": "execute_result"
    }
   ],
   "source": [
    "from surprise import SVD \n",
    "\n",
    "svd = SVD()\n",
    "\n",
    "svd.fit(trainset)"
   ]
  },
  {
   "cell_type": "code",
   "execution_count": 14,
   "id": "76c7073d-b0a1-4f07-aa2f-c62c06222573",
   "metadata": {},
   "outputs": [
    {
     "data": {
      "text/plain": [
       "Prediction(uid=15, iid=1956, r_ui=None, est=3.5130574956561746, details={'was_impossible': False})"
      ]
     },
     "execution_count": 14,
     "metadata": {},
     "output_type": "execute_result"
    }
   ],
   "source": [
    "svd.predict(15, 1956)"
   ]
  },
  {
   "cell_type": "code",
   "execution_count": 15,
   "id": "6a72554f-fcde-45eb-8d96-5d04794b3cb1",
   "metadata": {},
   "outputs": [
    {
     "data": {
      "text/plain": [
       "3.5130574956561746"
      ]
     },
     "execution_count": 15,
     "metadata": {},
     "output_type": "execute_result"
    }
   ],
   "source": [
    "svd.predict(15, 1956).est"
   ]
  },
  {
   "cell_type": "code",
   "execution_count": 16,
   "id": "0ec71cf3-faf2-47b1-a63c-348a4ccf1ecd",
   "metadata": {},
   "outputs": [
    {
     "data": {
      "text/plain": [
       "{'test_rmse': array([0.89700361, 0.88973771, 0.90103654, 0.89837071, 0.89772712]),\n",
       " 'test_mae': array([0.69094031, 0.68457009, 0.69355753, 0.69207813, 0.69161217]),\n",
       " 'fit_time': (0.41289281845092773,\n",
       "  0.4229748249053955,\n",
       "  0.4323689937591553,\n",
       "  0.4525160789489746,\n",
       "  0.4098639488220215),\n",
       " 'test_time': (0.03154397010803223,\n",
       "  0.08498287200927734,\n",
       "  0.032592058181762695,\n",
       "  0.03434586524963379,\n",
       "  0.034096717834472656)}"
      ]
     },
     "execution_count": 16,
     "metadata": {},
     "output_type": "execute_result"
    }
   ],
   "source": [
    "# Validation \n",
    "\n",
    "from surprise import model_selection\n",
    "\n",
    "model_selection.cross_validate(svd, dataset, measures=[\"RMSE\", \"MAE\"])\n"
   ]
  }
 ],
 "metadata": {
  "kernelspec": {
   "display_name": "Python 3 (ipykernel)",
   "language": "python",
   "name": "python3"
  },
  "language_info": {
   "codemirror_mode": {
    "name": "ipython",
    "version": 3
   },
   "file_extension": ".py",
   "mimetype": "text/x-python",
   "name": "python",
   "nbconvert_exporter": "python",
   "pygments_lexer": "ipython3",
   "version": "3.11.6"
  }
 },
 "nbformat": 4,
 "nbformat_minor": 5
}
